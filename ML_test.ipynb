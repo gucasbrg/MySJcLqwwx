{
 "cells": [
  {
   "cell_type": "heading",
   "metadata": {
    "collapsed": true
   },
   "level": 1,
   "source": [
    "Supervised machine learning example"
   ]
  },
  {
   "cell_type": "markdown",
   "metadata": {},
   "source": [
    "In this notebook I will attempt to analyse the performance of various machine learning algoriths and their predictive power on the S&P 500."
   ]
  },
  {
   "cell_type": "code",
   "execution_count": 2,
   "metadata": {},
   "outputs": [
    {
     "name": "stderr",
     "output_type": "stream",
     "text": [
      "/home/ward_s/anaconda3/lib/python3.6/site-packages/sklearn/cross_validation.py:44: DeprecationWarning: This module was deprecated in version 0.18 in favor of the model_selection module into which all the refactored classes and functions are moved. Also note that the interface of the new CV iterators are different from that of this module. This module will be removed in 0.20.\n  \"This module will be removed in 0.20.\", DeprecationWarning)\n/home/ward_s/anaconda3/lib/python3.6/site-packages/sklearn/grid_search.py:43: DeprecationWarning: This module was deprecated in version 0.18 in favor of the model_selection module into which all the refactored classes and functions are moved. This module will be removed in 0.20.\n  DeprecationWarning)\n"
     ]
    }
   ],
   "source": [
    "from datetime import datetime\n",
    "import Methods as models\n",
    "import Predictors as predictors\n",
    "import stock_tools as st\n",
    "import matplotlib.pyplot as plt\n",
    "import pandas as pd\n",
    "import numpy as np\n",
    "from matplotlib import gridspec"
   ]
  },
  {
   "cell_type": "heading",
   "metadata": {},
   "level": 2,
   "source": [
    "Basic Setup - Getting parameters and data"
   ]
  },
  {
   "cell_type": "markdown",
   "metadata": {},
   "source": [
    "Create a template with the available variables"
   ]
  },
  {
   "cell_type": "code",
   "execution_count": 3,
   "metadata": {},
   "outputs": [],
   "source": [
    "interest = 'SPY'\n",
    "start_date = datetime.strptime('2000-01-01', '%Y-%m-%d')\n",
    "end_date = datetime.strptime('2010-12-31', '%Y-%m-%d')"
   ]
  },
  {
   "cell_type": "code",
   "execution_count": 4,
   "metadata": {},
   "outputs": [],
   "source": [
    "# Get the data and correct for fluctuations\n",
    "data = st.get_data(start_date,end_date,from_file=True)\n",
    "corr_data = st.ohlc_adj(data)\n",
    "# Create a predictors class which we will base our decisions from\n",
    "pred = predictors.Predictors(corr_data)"
   ]
  },
  {
   "cell_type": "markdown",
   "metadata": {},
   "source": [
    "The data is far too noisy to make accurate predictions. We apply a 5 day exponential rolling filter. This should preserve shape and reduce noise."
   ]
  },
  {
   "cell_type": "code",
   "execution_count": 5,
   "metadata": {},
   "outputs": [],
   "source": [
    "pred.e_filter(5)"
   ]
  },
  {
   "cell_type": "code",
   "execution_count": 6,
   "metadata": {},
   "outputs": [],
   "source": [
    "def make_logic(x=0.):\n",
    "    \"\"\"\n",
    "    Makes this signal if the Closing price has gone above a percentage\n",
    "    \n",
    "    :param x: Number describing the percentage change.\n",
    "    :return: Pandas DataFrame containing the true/false of the percentage change.\n",
    "    \"\"\"\n",
    "    return ((1 - pred.data.Close.shift(1).div(pred.data.Close)) > x)*1"
   ]
  },
  {
   "cell_type": "heading",
   "metadata": {},
   "level": 2,
   "source": [
    "Methodology"
   ]
  },
  {
   "cell_type": "markdown",
   "metadata": {},
   "source": [
    "As a start, we test all algorithms for applicability. Make an indicator for raise or fall. From one day to the next. In these cases the model is created on 0.8 of the previous years data and then tested on 20% of the data. A walk forward optimization is performed, using new train and test data. In the case of XGboost, walk forward optimization has not been performed as it is too computationally expensive.\n",
    "\n",
    "The technical indicators which have been selected are:\n",
    "\n",
    "'meanfractal'\n",
    "\n",
    "'RStok0'\n",
    "\n",
    "'mom'\n",
    "\n",
    "'MACD_l'\n",
    "\n",
    "These were chosen from running all indicators through xgboost and selecting those which contribute the most. See the file xgboost_test for the methodology."
   ]
  },
  {
   "cell_type": "code",
   "execution_count": null,
   "metadata": {},
   "outputs": [],
   "source": [
    ""
   ]
  }
 ],
 "metadata": {
  "kernelspec": {
   "display_name": "Python 2",
   "language": "python",
   "name": "python2"
  },
  "language_info": {
   "codemirror_mode": {
    "name": "ipython",
    "version": 2.0
   },
   "file_extension": ".py",
   "mimetype": "text/x-python",
   "name": "python",
   "nbconvert_exporter": "python",
   "pygments_lexer": "ipython2",
   "version": "2.7.6"
  }
 },
 "nbformat": 4,
 "nbformat_minor": 0
}